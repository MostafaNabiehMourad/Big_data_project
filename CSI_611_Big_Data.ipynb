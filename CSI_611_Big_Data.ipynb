{
  "nbformat": 4,
  "nbformat_minor": 0,
  "metadata": {
    "colab": {
      "name": "CSI 611 Big Data Project.ipynb",
      "provenance": [],
      "collapsed_sections": []
    },
    "kernelspec": {
      "name": "python3",
      "display_name": "Python 3"
    },
    "language_info": {
      "name": "python"
    }
  },
  "cells": [
    {
      "cell_type": "markdown",
      "metadata": {
        "id": "IdfMbN0FBwAg"
      },
      "source": [
        "# Get Dataset"
      ]
    },
    {
      "cell_type": "code",
      "metadata": {
        "colab": {
          "base_uri": "https://localhost:8080/"
        },
        "id": "FXnOYWFZBqrn",
        "outputId": "17783d85-6187-443b-b602-6ccdf4f49e8a"
      },
      "source": [
        "from google.colab import drive\n",
        "drive.mount('/gdrive')"
      ],
      "execution_count": 1,
      "outputs": [
        {
          "output_type": "stream",
          "name": "stdout",
          "text": [
            "Mounted at /gdrive\n"
          ]
        }
      ]
    },
    {
      "cell_type": "code",
      "metadata": {
        "colab": {
          "base_uri": "https://localhost:8080/"
        },
        "id": "J9R-8DnfH6Wb",
        "outputId": "bde768a8-afab-46b6-982a-c43b721abdb1"
      },
      "source": [
        "!unzip /gdrive/MyDrive/dataset.zip"
      ],
      "execution_count": 7,
      "outputs": [
        {
          "output_type": "stream",
          "name": "stdout",
          "text": [
            "Archive:  /gdrive/MyDrive/dataset.zip\n",
            "  inflating: weather-sa-2017-2019-clean.csv  \n"
          ]
        }
      ]
    },
    {
      "cell_type": "markdown",
      "metadata": {
        "id": "oiac3UZJ7o18"
      },
      "source": [
        "## Read Dataset"
      ]
    },
    {
      "cell_type": "code",
      "metadata": {
        "id": "_jOEVzBYCXMw"
      },
      "source": [
        "import pandas as pd\n",
        "df = pd.read_csv('/content/weather-sa-2017-2019-clean.csv')"
      ],
      "execution_count": 111,
      "outputs": []
    },
    {
      "cell_type": "code",
      "metadata": {
        "colab": {
          "base_uri": "https://localhost:8080/",
          "height": 701
        },
        "id": "QJWBSmeqCnBR",
        "outputId": "731350a0-718b-4a97-d96c-75d68b696022"
      },
      "source": [
        "df"
      ],
      "execution_count": 112,
      "outputs": [
        {
          "output_type": "execute_result",
          "data": {
            "text/html": [
              "<div>\n",
              "<style scoped>\n",
              "    .dataframe tbody tr th:only-of-type {\n",
              "        vertical-align: middle;\n",
              "    }\n",
              "\n",
              "    .dataframe tbody tr th {\n",
              "        vertical-align: top;\n",
              "    }\n",
              "\n",
              "    .dataframe thead th {\n",
              "        text-align: right;\n",
              "    }\n",
              "</style>\n",
              "<table border=\"1\" class=\"dataframe\">\n",
              "  <thead>\n",
              "    <tr style=\"text-align: right;\">\n",
              "      <th></th>\n",
              "      <th>Unnamed: 0</th>\n",
              "      <th>city</th>\n",
              "      <th>date</th>\n",
              "      <th>time</th>\n",
              "      <th>year</th>\n",
              "      <th>month</th>\n",
              "      <th>day</th>\n",
              "      <th>hour</th>\n",
              "      <th>minute</th>\n",
              "      <th>weather</th>\n",
              "      <th>temp</th>\n",
              "      <th>wind</th>\n",
              "      <th>humidity</th>\n",
              "      <th>barometer</th>\n",
              "      <th>visibility</th>\n",
              "    </tr>\n",
              "  </thead>\n",
              "  <tbody>\n",
              "    <tr>\n",
              "      <th>0</th>\n",
              "      <td>0</td>\n",
              "      <td>Qassim</td>\n",
              "      <td>1 January 2017</td>\n",
              "      <td>00:00</td>\n",
              "      <td>2017</td>\n",
              "      <td>1</td>\n",
              "      <td>1</td>\n",
              "      <td>24</td>\n",
              "      <td>0</td>\n",
              "      <td>Clear</td>\n",
              "      <td>17</td>\n",
              "      <td>11</td>\n",
              "      <td>64%</td>\n",
              "      <td>1018.0</td>\n",
              "      <td>16</td>\n",
              "    </tr>\n",
              "    <tr>\n",
              "      <th>1</th>\n",
              "      <td>1</td>\n",
              "      <td>Qassim</td>\n",
              "      <td>1 January 2017</td>\n",
              "      <td>01:00</td>\n",
              "      <td>2017</td>\n",
              "      <td>1</td>\n",
              "      <td>1</td>\n",
              "      <td>1</td>\n",
              "      <td>0</td>\n",
              "      <td>Clear</td>\n",
              "      <td>17</td>\n",
              "      <td>6</td>\n",
              "      <td>64%</td>\n",
              "      <td>1018.0</td>\n",
              "      <td>16</td>\n",
              "    </tr>\n",
              "    <tr>\n",
              "      <th>2</th>\n",
              "      <td>2</td>\n",
              "      <td>Qassim</td>\n",
              "      <td>1 January 2017</td>\n",
              "      <td>03:00</td>\n",
              "      <td>2017</td>\n",
              "      <td>1</td>\n",
              "      <td>1</td>\n",
              "      <td>3</td>\n",
              "      <td>0</td>\n",
              "      <td>Clear</td>\n",
              "      <td>15</td>\n",
              "      <td>11</td>\n",
              "      <td>72%</td>\n",
              "      <td>1019.0</td>\n",
              "      <td>16</td>\n",
              "    </tr>\n",
              "    <tr>\n",
              "      <th>3</th>\n",
              "      <td>3</td>\n",
              "      <td>Qassim</td>\n",
              "      <td>1 January 2017</td>\n",
              "      <td>04:00</td>\n",
              "      <td>2017</td>\n",
              "      <td>1</td>\n",
              "      <td>1</td>\n",
              "      <td>4</td>\n",
              "      <td>0</td>\n",
              "      <td>Clear</td>\n",
              "      <td>15</td>\n",
              "      <td>11</td>\n",
              "      <td>72%</td>\n",
              "      <td>1019.0</td>\n",
              "      <td>16</td>\n",
              "    </tr>\n",
              "    <tr>\n",
              "      <th>4</th>\n",
              "      <td>4</td>\n",
              "      <td>Qassim</td>\n",
              "      <td>1 January 2017</td>\n",
              "      <td>05:00</td>\n",
              "      <td>2017</td>\n",
              "      <td>1</td>\n",
              "      <td>1</td>\n",
              "      <td>5</td>\n",
              "      <td>0</td>\n",
              "      <td>Clear</td>\n",
              "      <td>15</td>\n",
              "      <td>9</td>\n",
              "      <td>72%</td>\n",
              "      <td>1019.0</td>\n",
              "      <td>16</td>\n",
              "    </tr>\n",
              "    <tr>\n",
              "      <th>...</th>\n",
              "      <td>...</td>\n",
              "      <td>...</td>\n",
              "      <td>...</td>\n",
              "      <td>...</td>\n",
              "      <td>...</td>\n",
              "      <td>...</td>\n",
              "      <td>...</td>\n",
              "      <td>...</td>\n",
              "      <td>...</td>\n",
              "      <td>...</td>\n",
              "      <td>...</td>\n",
              "      <td>...</td>\n",
              "      <td>...</td>\n",
              "      <td>...</td>\n",
              "      <td>...</td>\n",
              "    </tr>\n",
              "    <tr>\n",
              "      <th>249018</th>\n",
              "      <td>2848</td>\n",
              "      <td>Jawf</td>\n",
              "      <td>30 April 2019</td>\n",
              "      <td>19:00</td>\n",
              "      <td>2019</td>\n",
              "      <td>4</td>\n",
              "      <td>30</td>\n",
              "      <td>19</td>\n",
              "      <td>0</td>\n",
              "      <td>Passing clouds</td>\n",
              "      <td>32</td>\n",
              "      <td>19</td>\n",
              "      <td>14%</td>\n",
              "      <td>1014.0</td>\n",
              "      <td>-1</td>\n",
              "    </tr>\n",
              "    <tr>\n",
              "      <th>249019</th>\n",
              "      <td>2849</td>\n",
              "      <td>Jawf</td>\n",
              "      <td>30 April 2019</td>\n",
              "      <td>20:00</td>\n",
              "      <td>2019</td>\n",
              "      <td>4</td>\n",
              "      <td>30</td>\n",
              "      <td>20</td>\n",
              "      <td>0</td>\n",
              "      <td>Passing clouds</td>\n",
              "      <td>29</td>\n",
              "      <td>9</td>\n",
              "      <td>22%</td>\n",
              "      <td>1015.0</td>\n",
              "      <td>-1</td>\n",
              "    </tr>\n",
              "    <tr>\n",
              "      <th>249020</th>\n",
              "      <td>2850</td>\n",
              "      <td>Jawf</td>\n",
              "      <td>30 April 2019</td>\n",
              "      <td>21:00</td>\n",
              "      <td>2019</td>\n",
              "      <td>4</td>\n",
              "      <td>30</td>\n",
              "      <td>21</td>\n",
              "      <td>0</td>\n",
              "      <td>Passing clouds</td>\n",
              "      <td>27</td>\n",
              "      <td>7</td>\n",
              "      <td>24%</td>\n",
              "      <td>1016.0</td>\n",
              "      <td>-1</td>\n",
              "    </tr>\n",
              "    <tr>\n",
              "      <th>249021</th>\n",
              "      <td>2851</td>\n",
              "      <td>Jawf</td>\n",
              "      <td>30 April 2019</td>\n",
              "      <td>22:00</td>\n",
              "      <td>2019</td>\n",
              "      <td>4</td>\n",
              "      <td>30</td>\n",
              "      <td>22</td>\n",
              "      <td>0</td>\n",
              "      <td>Clear</td>\n",
              "      <td>26</td>\n",
              "      <td>0</td>\n",
              "      <td>26%</td>\n",
              "      <td>1017.0</td>\n",
              "      <td>16</td>\n",
              "    </tr>\n",
              "    <tr>\n",
              "      <th>249022</th>\n",
              "      <td>2852</td>\n",
              "      <td>Jawf</td>\n",
              "      <td>30 April 2019</td>\n",
              "      <td>23:00</td>\n",
              "      <td>2019</td>\n",
              "      <td>4</td>\n",
              "      <td>30</td>\n",
              "      <td>23</td>\n",
              "      <td>0</td>\n",
              "      <td>Clear</td>\n",
              "      <td>24</td>\n",
              "      <td>7</td>\n",
              "      <td>29%</td>\n",
              "      <td>1017.0</td>\n",
              "      <td>16</td>\n",
              "    </tr>\n",
              "  </tbody>\n",
              "</table>\n",
              "<p>249023 rows × 15 columns</p>\n",
              "</div>"
            ],
            "text/plain": [
              "        Unnamed: 0    city            date  ... humidity  barometer  visibility\n",
              "0                0  Qassim  1 January 2017  ...      64%     1018.0          16\n",
              "1                1  Qassim  1 January 2017  ...      64%     1018.0          16\n",
              "2                2  Qassim  1 January 2017  ...      72%     1019.0          16\n",
              "3                3  Qassim  1 January 2017  ...      72%     1019.0          16\n",
              "4                4  Qassim  1 January 2017  ...      72%     1019.0          16\n",
              "...            ...     ...             ...  ...      ...        ...         ...\n",
              "249018        2848    Jawf   30 April 2019  ...      14%     1014.0          -1\n",
              "249019        2849    Jawf   30 April 2019  ...      22%     1015.0          -1\n",
              "249020        2850    Jawf   30 April 2019  ...      24%     1016.0          -1\n",
              "249021        2851    Jawf   30 April 2019  ...      26%     1017.0          16\n",
              "249022        2852    Jawf   30 April 2019  ...      29%     1017.0          16\n",
              "\n",
              "[249023 rows x 15 columns]"
            ]
          },
          "metadata": {},
          "execution_count": 112
        }
      ]
    },
    {
      "cell_type": "code",
      "metadata": {
        "id": "W6fggSBjIE5L"
      },
      "source": [
        "df.drop([df.columns[0]],axis=1,inplace=True)"
      ],
      "execution_count": 113,
      "outputs": []
    },
    {
      "cell_type": "markdown",
      "metadata": {
        "id": "406l-RbB73lv"
      },
      "source": [
        "## MapReduce"
      ]
    },
    {
      "cell_type": "markdown",
      "metadata": {
        "id": "4EeL2FAJ7tRW"
      },
      "source": [
        "### Mapper"
      ]
    },
    {
      "cell_type": "code",
      "metadata": {
        "id": "JLFQjS14Cn41"
      },
      "source": [
        "def mapper(dataset):\n",
        "  ls_year = []\n",
        "  ls_month = []\n",
        "  ls_temp = []\n",
        "  for line in dataset:\n",
        "    line = line.strip()\n",
        "      # split the line into words\n",
        "    if line == 'month' :\n",
        "      for row in df[line]:\n",
        "        ls_month.append(row)\n",
        "    if line == 'year' :\n",
        "      for row in df[line]:\n",
        "        ls_year.append(row)\n",
        "    if line == 'temp' :\n",
        "      for row in df[line]:\n",
        "        ls_temp.append(row)\n",
        "  return ls_year,ls_month,ls_temp\n",
        "\n",
        "\n",
        "data=mapper(df)\n"
      ],
      "execution_count": 114,
      "outputs": []
    },
    {
      "cell_type": "markdown",
      "metadata": {
        "id": "JjWIUlj-7y3y"
      },
      "source": [
        "### Reducer"
      ]
    },
    {
      "cell_type": "code",
      "metadata": {
        "id": "dvJK_UfyF2lN"
      },
      "source": [
        "def reducer(data):\n",
        "    d = {'Year':data[0],'Month':data[1],'Temp':data[2]}\n",
        "    data = pd.DataFrame(d)\n",
        "    data_group = data.groupby(['Year','Month']).sum('Temp')\n",
        "    data_group['Temp_avg'] =data.groupby(['Year','Month']).mean('Temp')\n",
        "    return data_group\n",
        "\n",
        "        \n",
        "\n",
        "                \n",
        "data = reducer(data)"
      ],
      "execution_count": 115,
      "outputs": []
    },
    {
      "cell_type": "code",
      "metadata": {
        "colab": {
          "base_uri": "https://localhost:8080/",
          "height": 937
        },
        "id": "R76qbXnUajUh",
        "outputId": "b2b9718d-8079-4a2f-ca0a-fd4941b09301"
      },
      "source": [
        "data"
      ],
      "execution_count": 116,
      "outputs": [
        {
          "output_type": "execute_result",
          "data": {
            "text/html": [
              "<div>\n",
              "<style scoped>\n",
              "    .dataframe tbody tr th:only-of-type {\n",
              "        vertical-align: middle;\n",
              "    }\n",
              "\n",
              "    .dataframe tbody tr th {\n",
              "        vertical-align: top;\n",
              "    }\n",
              "\n",
              "    .dataframe thead th {\n",
              "        text-align: right;\n",
              "    }\n",
              "</style>\n",
              "<table border=\"1\" class=\"dataframe\">\n",
              "  <thead>\n",
              "    <tr style=\"text-align: right;\">\n",
              "      <th></th>\n",
              "      <th></th>\n",
              "      <th>Temp</th>\n",
              "      <th>Temp_avg</th>\n",
              "    </tr>\n",
              "    <tr>\n",
              "      <th>Year</th>\n",
              "      <th>Month</th>\n",
              "      <th></th>\n",
              "      <th></th>\n",
              "    </tr>\n",
              "  </thead>\n",
              "  <tbody>\n",
              "    <tr>\n",
              "      <th rowspan=\"12\" valign=\"top\">2017</th>\n",
              "      <th>1</th>\n",
              "      <td>137778</td>\n",
              "      <td>16.011389</td>\n",
              "    </tr>\n",
              "    <tr>\n",
              "      <th>2</th>\n",
              "      <td>121745</td>\n",
              "      <td>15.459683</td>\n",
              "    </tr>\n",
              "    <tr>\n",
              "      <th>3</th>\n",
              "      <td>182319</td>\n",
              "      <td>20.786569</td>\n",
              "    </tr>\n",
              "    <tr>\n",
              "      <th>4</th>\n",
              "      <td>226180</td>\n",
              "      <td>25.991726</td>\n",
              "    </tr>\n",
              "    <tr>\n",
              "      <th>5</th>\n",
              "      <td>279789</td>\n",
              "      <td>29.673242</td>\n",
              "    </tr>\n",
              "    <tr>\n",
              "      <th>6</th>\n",
              "      <td>295879</td>\n",
              "      <td>32.672151</td>\n",
              "    </tr>\n",
              "    <tr>\n",
              "      <th>7</th>\n",
              "      <td>329677</td>\n",
              "      <td>34.542854</td>\n",
              "    </tr>\n",
              "    <tr>\n",
              "      <th>8</th>\n",
              "      <td>322923</td>\n",
              "      <td>33.974014</td>\n",
              "    </tr>\n",
              "    <tr>\n",
              "      <th>9</th>\n",
              "      <td>286648</td>\n",
              "      <td>31.293450</td>\n",
              "    </tr>\n",
              "    <tr>\n",
              "      <th>10</th>\n",
              "      <td>252830</td>\n",
              "      <td>26.602483</td>\n",
              "    </tr>\n",
              "    <tr>\n",
              "      <th>11</th>\n",
              "      <td>194044</td>\n",
              "      <td>21.211631</td>\n",
              "    </tr>\n",
              "    <tr>\n",
              "      <th>12</th>\n",
              "      <td>151452</td>\n",
              "      <td>16.180769</td>\n",
              "    </tr>\n",
              "    <tr>\n",
              "      <th rowspan=\"12\" valign=\"top\">2018</th>\n",
              "      <th>1</th>\n",
              "      <td>117535</td>\n",
              "      <td>14.898593</td>\n",
              "    </tr>\n",
              "    <tr>\n",
              "      <th>2</th>\n",
              "      <td>137878</td>\n",
              "      <td>18.877054</td>\n",
              "    </tr>\n",
              "    <tr>\n",
              "      <th>3</th>\n",
              "      <td>206634</td>\n",
              "      <td>23.531944</td>\n",
              "    </tr>\n",
              "    <tr>\n",
              "      <th>4</th>\n",
              "      <td>205314</td>\n",
              "      <td>24.573788</td>\n",
              "    </tr>\n",
              "    <tr>\n",
              "      <th>5</th>\n",
              "      <td>259745</td>\n",
              "      <td>29.794104</td>\n",
              "    </tr>\n",
              "    <tr>\n",
              "      <th>6</th>\n",
              "      <td>279800</td>\n",
              "      <td>32.859659</td>\n",
              "    </tr>\n",
              "    <tr>\n",
              "      <th>7</th>\n",
              "      <td>296197</td>\n",
              "      <td>33.697042</td>\n",
              "    </tr>\n",
              "    <tr>\n",
              "      <th>8</th>\n",
              "      <td>288814</td>\n",
              "      <td>32.917028</td>\n",
              "    </tr>\n",
              "    <tr>\n",
              "      <th>9</th>\n",
              "      <td>275615</td>\n",
              "      <td>32.406232</td>\n",
              "    </tr>\n",
              "    <tr>\n",
              "      <th>10</th>\n",
              "      <td>250100</td>\n",
              "      <td>26.081969</td>\n",
              "    </tr>\n",
              "    <tr>\n",
              "      <th>11</th>\n",
              "      <td>184142</td>\n",
              "      <td>19.683805</td>\n",
              "    </tr>\n",
              "    <tr>\n",
              "      <th>12</th>\n",
              "      <td>165776</td>\n",
              "      <td>17.739540</td>\n",
              "    </tr>\n",
              "    <tr>\n",
              "      <th rowspan=\"4\" valign=\"top\">2019</th>\n",
              "      <th>1</th>\n",
              "      <td>164025</td>\n",
              "      <td>17.121608</td>\n",
              "    </tr>\n",
              "    <tr>\n",
              "      <th>2</th>\n",
              "      <td>150312</td>\n",
              "      <td>17.401250</td>\n",
              "    </tr>\n",
              "    <tr>\n",
              "      <th>3</th>\n",
              "      <td>184442</td>\n",
              "      <td>19.678011</td>\n",
              "    </tr>\n",
              "    <tr>\n",
              "      <th>4</th>\n",
              "      <td>208909</td>\n",
              "      <td>23.597538</td>\n",
              "    </tr>\n",
              "  </tbody>\n",
              "</table>\n",
              "</div>"
            ],
            "text/plain": [
              "              Temp   Temp_avg\n",
              "Year Month                   \n",
              "2017 1      137778  16.011389\n",
              "     2      121745  15.459683\n",
              "     3      182319  20.786569\n",
              "     4      226180  25.991726\n",
              "     5      279789  29.673242\n",
              "     6      295879  32.672151\n",
              "     7      329677  34.542854\n",
              "     8      322923  33.974014\n",
              "     9      286648  31.293450\n",
              "     10     252830  26.602483\n",
              "     11     194044  21.211631\n",
              "     12     151452  16.180769\n",
              "2018 1      117535  14.898593\n",
              "     2      137878  18.877054\n",
              "     3      206634  23.531944\n",
              "     4      205314  24.573788\n",
              "     5      259745  29.794104\n",
              "     6      279800  32.859659\n",
              "     7      296197  33.697042\n",
              "     8      288814  32.917028\n",
              "     9      275615  32.406232\n",
              "     10     250100  26.081969\n",
              "     11     184142  19.683805\n",
              "     12     165776  17.739540\n",
              "2019 1      164025  17.121608\n",
              "     2      150312  17.401250\n",
              "     3      184442  19.678011\n",
              "     4      208909  23.597538"
            ]
          },
          "metadata": {},
          "execution_count": 116
        }
      ]
    },
    {
      "cell_type": "markdown",
      "metadata": {
        "id": "Bi_Fm2r88awK"
      },
      "source": [
        "## Spark"
      ]
    },
    {
      "cell_type": "code",
      "metadata": {
        "id": "EJGSGt5Sy-dZ",
        "colab": {
          "base_uri": "https://localhost:8080/"
        },
        "outputId": "de39f624-c159-42cd-b235-f95d75428671"
      },
      "source": [
        "!pip install pyspark"
      ],
      "execution_count": 1,
      "outputs": [
        {
          "output_type": "stream",
          "name": "stdout",
          "text": [
            "Requirement already satisfied: pyspark in /usr/local/lib/python3.7/dist-packages (3.2.0)\n",
            "Requirement already satisfied: py4j==0.10.9.2 in /usr/local/lib/python3.7/dist-packages (from pyspark) (0.10.9.2)\n"
          ]
        }
      ]
    },
    {
      "cell_type": "code",
      "metadata": {
        "id": "j2og5EGAeZyf"
      },
      "source": [
        "from pyspark.sql import SparkSession\n",
        "\n",
        "spark = (SparkSession\n",
        " .builder\n",
        " .appName('Hive_database')\n",
        " .enableHiveSupport()\n",
        " .getOrCreate())"
      ],
      "execution_count": 2,
      "outputs": []
    },
    {
      "cell_type": "code",
      "metadata": {
        "id": "JlB96PITb6GE"
      },
      "source": [
        "df =spark.read.csv('/content/weather-sa-2017-2019-clean.csv',inferSchema=True,header=True)"
      ],
      "execution_count": 8,
      "outputs": []
    },
    {
      "cell_type": "code",
      "metadata": {
        "colab": {
          "base_uri": "https://localhost:8080/"
        },
        "id": "ngUPcc3KlJ0y",
        "outputId": "678ca5ff-27fc-4863-e1de-221f98cda670"
      },
      "source": [
        "df.show()"
      ],
      "execution_count": 9,
      "outputs": [
        {
          "output_type": "stream",
          "name": "stdout",
          "text": [
            "+---+------+--------------+-----+----+-----+---+----+------+-------+----+----+--------+---------+----------+\n",
            "|_c0|  city|          date| time|year|month|day|hour|minute|weather|temp|wind|humidity|barometer|visibility|\n",
            "+---+------+--------------+-----+----+-----+---+----+------+-------+----+----+--------+---------+----------+\n",
            "|  0|Qassim|1 January 2017|00:00|2017|    1|  1|  24|     0| Clear |  17|  11|     64%|     1018|        16|\n",
            "|  1|Qassim|1 January 2017|01:00|2017|    1|  1|   1|     0| Clear |  17|   6|     64%|     1018|        16|\n",
            "|  2|Qassim|1 January 2017|03:00|2017|    1|  1|   3|     0| Clear |  15|  11|     72%|     1019|        16|\n",
            "|  3|Qassim|1 January 2017|04:00|2017|    1|  1|   4|     0| Clear |  15|  11|     72%|     1019|        16|\n",
            "|  4|Qassim|1 January 2017|05:00|2017|    1|  1|   5|     0| Clear |  15|   9|     72%|     1019|        16|\n",
            "|  5|Qassim|1 January 2017|06:00|2017|    1|  1|   6|     0| Clear |  13|  13|     82%|     1019|        16|\n",
            "|  6|Qassim|1 January 2017|07:00|2017|    1|  1|   7|     0| Sunny |  12|   7|     88%|     1019|        16|\n",
            "|  7|Qassim|1 January 2017|08:00|2017|    1|  1|   8|     0| Sunny |  14|   9|     72%|     1021|        16|\n",
            "|  8|Qassim|1 January 2017|09:00|2017|    1|  1|   9|     0| Sunny |  15|   9|     72%|     1021|         7|\n",
            "|  9|Qassim|1 January 2017|10:00|2017|    1|  1|  10|     0| Sunny |  17|   7|     64%|     1021|         9|\n",
            "| 10|Qassim|1 January 2017|11:00|2017|    1|  1|  11|     0| Sunny |  19|  19|     64%|     1021|         7|\n",
            "| 11|Qassim|1 January 2017|12:00|2017|    1|  1|  12|     0| Sunny |  20|  19|     60%|     1020|        16|\n",
            "| 12|Qassim|1 January 2017|13:00|2017|    1|  1|  13|     0| Sunny |  21|  15|     57%|     1020|        16|\n",
            "| 13|Qassim|1 January 2017|14:00|2017|    1|  1|  14|     0| Sunny |  22|  15|     53%|     1019|        16|\n",
            "| 14|Qassim|1 January 2017|15:00|2017|    1|  1|  15|     0| Sunny |  23|  15|     50%|     1018|        16|\n",
            "| 15|Qassim|1 January 2017|16:00|2017|    1|  1|  16|     0| Sunny |  22|  22|     53%|     1018|        16|\n",
            "| 16|Qassim|1 January 2017|17:00|2017|    1|  1|  17|     0| Sunny |  20|  20|     46%|     1018|        16|\n",
            "| 17|Qassim|1 January 2017|18:00|2017|    1|  1|  18|     0| Clear |  19|  19|     49%|     1019|        16|\n",
            "| 18|Qassim|1 January 2017|19:00|2017|    1|  1|  19|     0| Clear |  17|  19|     56%|     1019|        16|\n",
            "| 19|Qassim|1 January 2017|20:00|2017|    1|  1|  20|     0| Clear |  16|  22|     59%|     1020|        16|\n",
            "+---+------+--------------+-----+----+-----+---+----+------+-------+----+----+--------+---------+----------+\n",
            "only showing top 20 rows\n",
            "\n"
          ]
        }
      ]
    },
    {
      "cell_type": "code",
      "metadata": {
        "colab": {
          "base_uri": "https://localhost:8080/"
        },
        "id": "JJ6Mj3wl1DBv",
        "outputId": "85f7d787-92d2-4e7d-f892-29685e14bbcb"
      },
      "source": [
        "df.printSchema()"
      ],
      "execution_count": 10,
      "outputs": [
        {
          "output_type": "stream",
          "name": "stdout",
          "text": [
            "root\n",
            " |-- _c0: integer (nullable = true)\n",
            " |-- city: string (nullable = true)\n",
            " |-- date: string (nullable = true)\n",
            " |-- time: string (nullable = true)\n",
            " |-- year: integer (nullable = true)\n",
            " |-- month: integer (nullable = true)\n",
            " |-- day: integer (nullable = true)\n",
            " |-- hour: integer (nullable = true)\n",
            " |-- minute: integer (nullable = true)\n",
            " |-- weather: string (nullable = true)\n",
            " |-- temp: integer (nullable = true)\n",
            " |-- wind: integer (nullable = true)\n",
            " |-- humidity: string (nullable = true)\n",
            " |-- barometer: string (nullable = true)\n",
            " |-- visibility: integer (nullable = true)\n",
            "\n"
          ]
        }
      ]
    },
    {
      "cell_type": "markdown",
      "metadata": {
        "id": "mmUe4blj8fC8"
      },
      "source": [
        "### Spark Grouping by month and year"
      ]
    },
    {
      "cell_type": "code",
      "metadata": {
        "id": "kQA_QZCnlLfU"
      },
      "source": [
        "from pyspark.sql.functions import avg\n",
        "data_group=df.orderBy(\"year\").groupBy(\"year\",\"month\") \\\n",
        "    .agg(avg(\"temp\").alias(\"AVG\"), \\\n",
        "     ) "
      ],
      "execution_count": 11,
      "outputs": []
    },
    {
      "cell_type": "code",
      "metadata": {
        "colab": {
          "base_uri": "https://localhost:8080/"
        },
        "id": "Sq1hBsDEmGB9",
        "outputId": "a9cce278-45fb-4829-addb-ef51a6b5e2a1"
      },
      "source": [
        "data_group.sort(df.year,df.month).show()"
      ],
      "execution_count": 12,
      "outputs": [
        {
          "output_type": "stream",
          "name": "stdout",
          "text": [
            "+----+-----+------------------+\n",
            "|year|month|               AVG|\n",
            "+----+-----+------------------+\n",
            "|2017|    1| 16.01138872748402|\n",
            "|2017|    2| 15.45968253968254|\n",
            "|2017|    3|20.786569376353892|\n",
            "|2017|    4|25.991726039990805|\n",
            "|2017|    5|29.673242125357937|\n",
            "|2017|    6| 32.67215106007067|\n",
            "|2017|    7| 34.54285414920369|\n",
            "|2017|    8|33.974013677012096|\n",
            "|2017|    9| 31.29344978165939|\n",
            "|2017|   10|26.602483164983166|\n",
            "|2017|   11|21.211630957586358|\n",
            "|2017|   12| 16.18076923076923|\n",
            "|2018|    1|14.898592977563696|\n",
            "|2018|    2|18.877053669222345|\n",
            "|2018|    3| 23.53194396993509|\n",
            "|2018|    4|  24.5737881508079|\n",
            "|2018|    5|29.794104152328515|\n",
            "|2018|    6| 32.85965942454492|\n",
            "|2018|    7| 33.69704209328783|\n",
            "|2018|    8| 32.91702758149077|\n",
            "+----+-----+------------------+\n",
            "only showing top 20 rows\n",
            "\n"
          ]
        }
      ]
    },
    {
      "cell_type": "code",
      "metadata": {
        "colab": {
          "base_uri": "https://localhost:8080/"
        },
        "id": "MwMIgHRCo2V8",
        "outputId": "edfa5804-1ec1-4d37-ab68-ef24fd9f3f92"
      },
      "source": [
        "data_group.printSchema()"
      ],
      "execution_count": 13,
      "outputs": [
        {
          "output_type": "stream",
          "name": "stdout",
          "text": [
            "root\n",
            " |-- year: integer (nullable = true)\n",
            " |-- month: integer (nullable = true)\n",
            " |-- AVG: double (nullable = true)\n",
            "\n"
          ]
        }
      ]
    },
    {
      "cell_type": "code",
      "metadata": {
        "id": "6fSfFEdzgiL5"
      },
      "source": [
        "df=df.drop(\"_c0\") "
      ],
      "execution_count": 14,
      "outputs": []
    },
    {
      "cell_type": "code",
      "metadata": {
        "id": "H5eQ1kvTg38-"
      },
      "source": [
        "df.write.csv(\"weather-dataset.csv\")"
      ],
      "execution_count": null,
      "outputs": []
    },
    {
      "cell_type": "markdown",
      "metadata": {
        "id": "nvlLns9Y8n3f"
      },
      "source": [
        "## Hive "
      ]
    },
    {
      "cell_type": "markdown",
      "metadata": {
        "id": "2QEIf2U-8vWF"
      },
      "source": [
        "### Create database"
      ]
    },
    {
      "cell_type": "code",
      "metadata": {
        "colab": {
          "base_uri": "https://localhost:8080/"
        },
        "id": "EXQT1NjasAvV",
        "outputId": "19ae56b5-e880-48b3-aaa7-0615eae98cb5"
      },
      "source": [
        "spark.sql('create database hive_data')"
      ],
      "execution_count": 19,
      "outputs": [
        {
          "output_type": "execute_result",
          "data": {
            "text/plain": [
              "DataFrame[]"
            ]
          },
          "metadata": {},
          "execution_count": 19
        }
      ]
    },
    {
      "cell_type": "code",
      "metadata": {
        "colab": {
          "base_uri": "https://localhost:8080/"
        },
        "id": "japo3vYqsQ0w",
        "outputId": "1e372a1c-50f6-41a9-c906-9f2b44c27c32"
      },
      "source": [
        "spark.sql('show databases').show()"
      ],
      "execution_count": 20,
      "outputs": [
        {
          "output_type": "stream",
          "name": "stdout",
          "text": [
            "+-------------+\n",
            "|    namespace|\n",
            "+-------------+\n",
            "|      default|\n",
            "|    hive_data|\n",
            "|hive_database|\n",
            "+-------------+\n",
            "\n"
          ]
        }
      ]
    },
    {
      "cell_type": "code",
      "metadata": {
        "colab": {
          "base_uri": "https://localhost:8080/"
        },
        "id": "25KFhltgtfxU",
        "outputId": "a1b552b7-8e2e-4acc-c9b9-cf0641e8990f"
      },
      "source": [
        "spark.sql('use hive_data')"
      ],
      "execution_count": 21,
      "outputs": [
        {
          "output_type": "execute_result",
          "data": {
            "text/plain": [
              "DataFrame[]"
            ]
          },
          "metadata": {},
          "execution_count": 21
        }
      ]
    },
    {
      "cell_type": "markdown",
      "metadata": {
        "id": "-VBH6gxe8zxE"
      },
      "source": [
        "### Create Table"
      ]
    },
    {
      "cell_type": "code",
      "metadata": {
        "colab": {
          "base_uri": "https://localhost:8080/"
        },
        "id": "lop-1fpNvIpo",
        "outputId": "7f494a4b-c389-4446-e81b-4069d18b04e6"
      },
      "source": [
        "spark.sql(\"create table hive_tables \\\n",
        "           ( city string,date string,time string,year integer,month integer,day integer,hour integer,minute integer,\\\n",
        "           weather string,temp integer,wind integer,humidity string,barometer string,visibility integer)\\\n",
        "           row format delimited fields terminated by ','  \" ) "
      ],
      "execution_count": 22,
      "outputs": [
        {
          "output_type": "execute_result",
          "data": {
            "text/plain": [
              "DataFrame[]"
            ]
          },
          "metadata": {},
          "execution_count": 22
        }
      ]
    },
    {
      "cell_type": "code",
      "metadata": {
        "colab": {
          "base_uri": "https://localhost:8080/"
        },
        "id": "95fDd-9HtmVr",
        "outputId": "2787c732-b534-4df9-cb92-082393c9b64f"
      },
      "source": [
        "spark.sql(\"show tables\").show()"
      ],
      "execution_count": 23,
      "outputs": [
        {
          "output_type": "stream",
          "name": "stdout",
          "text": [
            "+---------+-----------+-----------+\n",
            "|namespace|  tableName|isTemporary|\n",
            "+---------+-----------+-----------+\n",
            "|hive_data|hive_tables|      false|\n",
            "+---------+-----------+-----------+\n",
            "\n"
          ]
        }
      ]
    },
    {
      "cell_type": "code",
      "metadata": {
        "colab": {
          "base_uri": "https://localhost:8080/"
        },
        "id": "4yRl6PVpvvtI",
        "outputId": "c25091bd-0a5a-43ae-d82c-7ee65bcda575"
      },
      "source": [
        "spark.sql(\"describe formatted hive_tables\").show(truncate = False)"
      ],
      "execution_count": 24,
      "outputs": [
        {
          "output_type": "stream",
          "name": "stdout",
          "text": [
            "+----------------------------+----------------------------+-------+\n",
            "|col_name                    |data_type                   |comment|\n",
            "+----------------------------+----------------------------+-------+\n",
            "|city                        |string                      |null   |\n",
            "|date                        |string                      |null   |\n",
            "|time                        |string                      |null   |\n",
            "|year                        |int                         |null   |\n",
            "|month                       |int                         |null   |\n",
            "|day                         |int                         |null   |\n",
            "|hour                        |int                         |null   |\n",
            "|minute                      |int                         |null   |\n",
            "|weather                     |string                      |null   |\n",
            "|temp                        |int                         |null   |\n",
            "|wind                        |int                         |null   |\n",
            "|humidity                    |string                      |null   |\n",
            "|barometer                   |string                      |null   |\n",
            "|visibility                  |int                         |null   |\n",
            "|                            |                            |       |\n",
            "|# Detailed Table Information|                            |       |\n",
            "|Database                    |hive_data                   |       |\n",
            "|Table                       |hive_tables                 |       |\n",
            "|Owner                       |root                        |       |\n",
            "|Created Time                |Wed Nov 17 15:32:14 UTC 2021|       |\n",
            "+----------------------------+----------------------------+-------+\n",
            "only showing top 20 rows\n",
            "\n"
          ]
        }
      ]
    },
    {
      "cell_type": "code",
      "metadata": {
        "colab": {
          "base_uri": "https://localhost:8080/"
        },
        "id": "yNlPDCzqt1AQ",
        "outputId": "d2c50f9f-65f0-4f3c-8d73-3264dce82f41"
      },
      "source": [
        "spark.sql(\"LOAD DATA  INPATH '/content/weather-dataset.csv' overwrite into TABLE hive_tables\")"
      ],
      "execution_count": 27,
      "outputs": [
        {
          "output_type": "execute_result",
          "data": {
            "text/plain": [
              "DataFrame[]"
            ]
          },
          "metadata": {},
          "execution_count": 27
        }
      ]
    },
    {
      "cell_type": "code",
      "metadata": {
        "colab": {
          "base_uri": "https://localhost:8080/"
        },
        "id": "mkjHm9Nov4BP",
        "outputId": "43213f03-7241-493f-d915-2bbce47d0687"
      },
      "source": [
        "spark.sql(\"select * from hive_tables limit 10\").show(truncate = False)"
      ],
      "execution_count": 28,
      "outputs": [
        {
          "output_type": "stream",
          "name": "stdout",
          "text": [
            "+----------------+--------------+-----+----+-----+---+----+------+-------+----+----+--------+---------+----------+\n",
            "|city            |date          |time |year|month|day|hour|minute|weather|temp|wind|humidity|barometer|visibility|\n",
            "+----------------+--------------+-----+----+-----+---+----+------+-------+----+----+--------+---------+----------+\n",
            "|Northern boarder|12 August 2017|17:00|2017|8    |12 |17  |0     |Sunny  |46  |20  |5%      |1002     |16        |\n",
            "|Northern boarder|12 August 2017|18:00|2017|8    |12 |18  |0     |Sunny  |45  |13  |6%      |1002     |16        |\n",
            "|Northern boarder|12 August 2017|19:00|2017|8    |12 |19  |0     |Clear  |44  |15  |6%      |1002     |16        |\n",
            "|Northern boarder|12 August 2017|20:00|2017|8    |12 |20  |0     |Clear  |42  |4   |7%      |1002     |16        |\n",
            "|Northern boarder|12 August 2017|21:00|2017|8    |12 |21  |0     |Clear  |39  |0   |8%      |1002     |16        |\n",
            "|Northern boarder|12 August 2017|22:00|2017|8    |12 |22  |0     |Clear  |38  |0   |8%      |1003     |16        |\n",
            "|Northern boarder|12 August 2017|23:00|2017|8    |12 |23  |0     |Clear  |36  |0   |9%      |1003     |16        |\n",
            "|Northern boarder|13 August 2017|00:00|2017|8    |13 |24  |0     |Clear  |36  |0   |9%      |1003     |16        |\n",
            "|Northern boarder|13 August 2017|01:00|2017|8    |13 |1   |0     |Clear  |35  |0   |9%      |1003     |16        |\n",
            "|Northern boarder|13 August 2017|02:00|2017|8    |13 |2   |0     |Clear  |33  |9   |10%     |1003     |16        |\n",
            "+----------------+--------------+-----+----+-----+---+----+------+-------+----+----+--------+---------+----------+\n",
            "\n"
          ]
        }
      ]
    },
    {
      "cell_type": "markdown",
      "metadata": {
        "id": "gM6xlRSM88O3"
      },
      "source": [
        "### Grouping by month and year"
      ]
    },
    {
      "cell_type": "code",
      "metadata": {
        "colab": {
          "base_uri": "https://localhost:8080/"
        },
        "id": "XqH9gwbezaPk",
        "outputId": "d2dfb184-f43e-46ad-af97-ae4e894db441"
      },
      "source": [
        "spark.sql('SELECT year, month,AVG(temp) from hive_tables GROUP BY year , month ORDER BY year,month ;').show(truncate = False)"
      ],
      "execution_count": 30,
      "outputs": [
        {
          "output_type": "stream",
          "name": "stdout",
          "text": [
            "+----+-----+------------------+\n",
            "|year|month|avg(temp)         |\n",
            "+----+-----+------------------+\n",
            "|2017|1    |16.01138872748402 |\n",
            "|2017|2    |15.45968253968254 |\n",
            "|2017|3    |20.786569376353892|\n",
            "|2017|4    |25.991726039990805|\n",
            "|2017|5    |29.673242125357937|\n",
            "|2017|6    |32.67215106007067 |\n",
            "|2017|7    |34.54285414920369 |\n",
            "|2017|8    |33.974013677012096|\n",
            "|2017|9    |31.29344978165939 |\n",
            "|2017|10   |26.602483164983166|\n",
            "|2017|11   |21.211630957586358|\n",
            "|2017|12   |16.18076923076923 |\n",
            "|2018|1    |14.898592977563696|\n",
            "|2018|2    |18.877053669222345|\n",
            "|2018|3    |23.53194396993509 |\n",
            "|2018|4    |24.5737881508079  |\n",
            "|2018|5    |29.794104152328515|\n",
            "|2018|6    |32.85965942454492 |\n",
            "|2018|7    |33.69704209328783 |\n",
            "|2018|8    |32.91702758149077 |\n",
            "+----+-----+------------------+\n",
            "only showing top 20 rows\n",
            "\n"
          ]
        }
      ]
    }
  ]
}